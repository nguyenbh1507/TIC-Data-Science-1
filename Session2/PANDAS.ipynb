{
 "cells": [
  {
   "cell_type": "markdown",
   "metadata": {},
   "source": [
    "Người ta thường nói rằng 80% phân tích dữ liệu được sử dụng cho việc dọn dẹp và chuẩn bị dữ liệu.\n",
    "Chương này tập trung vào khía cạnh quan trọng là thao tác dữ liệu và làm sạch dữ liệu với Pandas."
   ]
  },
  {
   "cell_type": "markdown",
   "metadata": {},
   "source": [
    "\n",
    "pandas có hai kiểu dữ liệu chủ chốt\n",
    "- Series: kiểu dữ liệu một chiều (1D) - chuỗi các giá trị \n",
    "- DataFrame: kiểu dữ liệu hai chiều (2D) - tức sẽ biểu diễn thành bảng , có hàng / cột trên Excel "
   ]
  },
  {
   "cell_type": "code",
   "execution_count": 3,
   "metadata": {},
   "outputs": [],
   "source": [
    "from __future__ import print_function\n",
    "import pandas as pd\n",
    "import numpy as np\n",
    "import matplotlib.pyplot as plt\n",
    "import scipy\n",
    "import scipy.stats as stats"
   ]
  },
  {
   "cell_type": "markdown",
   "metadata": {},
   "source": [
    "Series is a one-dimensional labeled array capable of holding any data type (integers, strings, Python objects, etc.).\n",
    "The axis labels are index.\n",
    "\n"
   ]
  },
  {
   "cell_type": "code",
   "execution_count": 63,
   "metadata": {
    "scrolled": true
   },
   "outputs": [
    {
     "name": "stdout",
     "output_type": "stream",
     "text": [
      "0           1\n",
      "1           3\n",
      "2           5\n",
      "3           c\n",
      "4           6\n",
      "5           8\n",
      "6    chuoi aa\n",
      "dtype: object\n"
     ]
    }
   ],
   "source": [
    "m = pd.Series([1,3,5,'c',6,8,\"chuoi aa\"])\n",
    "print(m)\n",
    "\n"
   ]
  },
  {
   "cell_type": "markdown",
   "metadata": {},
   "source": [
    "DataFrame is a 2-dimensional labeled data structure with columns of potentially different types.\n",
    "You can think of it like a spreadsheet or SQL table. It stems from the R data.frame() object."
   ]
  },
  {
   "cell_type": "code",
   "execution_count": 64,
   "metadata": {},
   "outputs": [
    {
     "name": "stdout",
     "output_type": "stream",
     "text": [
      "    name  age gender      job\n",
      "0  alice   19      F  student\n",
      "1   john   26      M  student\n",
      "   name  age gender      job\n",
      "0  eric   22      M  student\n",
      "1  paul   58      F  manager\n",
      "   age gender        job   name\n",
      "0   33      M   engineer  peter\n",
      "1   44      F  scientist  julie\n"
     ]
    }
   ],
   "source": [
    "columns = ['name', 'age', 'gender', 'job']\n",
    "user1 = pd.DataFrame([['alice', 19, \"F\", \"student\"], ['john', 26, \"M\", \"student\"]], columns=columns)\n",
    "user2 = pd.DataFrame([['eric', 22, \"M\", \"student\"], ['paul', 58, \"F\", \"manager\"]], columns=columns)\n",
    "user3 = pd.DataFrame(dict(name=['peter', 'julie'], age=[33, 44], gender=['M', 'F'], job=['engineer', 'scientist']))\n",
    "print(user1)\n",
    "print(user2)\n",
    "print(user3)"
   ]
  },
  {
   "cell_type": "markdown",
   "metadata": {},
   "source": [
    "# user1.append(user2)\n",
    "users = pd.concat([user1, user2, user3])\n",
    "print(users)Ket Noi DataFrame"
   ]
  },
  {
   "cell_type": "code",
   "execution_count": 22,
   "metadata": {
    "scrolled": true
   },
   "outputs": [
    {
     "name": "stdout",
     "output_type": "stream",
     "text": [
      "    name  age gender      job\n",
      "0  alice   19      F  student\n",
      "1   john   26      M  student\n",
      "0   eric   22      M  student\n",
      "1   paul   58      F  manager\n",
      "-----\n",
      "   age gender        job   name\n",
      "0   19      F    student  alice\n",
      "1   26      M    student   john\n",
      "0   22      M    student   eric\n",
      "1   58      F    manager   paul\n",
      "0   33      M   engineer  peter\n",
      "1   44      F  scientist  julie\n"
     ]
    }
   ],
   "source": [
    "a = user1.append(user2)\n",
    "users = pd.concat([user1, user2, user3])\n",
    "print(a)\n",
    "print(\"-----\")\n",
    "print(users)"
   ]
  },
  {
   "cell_type": "markdown",
   "metadata": {},
   "source": [
    "# Join DataFrame"
   ]
  },
  {
   "cell_type": "code",
   "execution_count": 23,
   "metadata": {
    "scrolled": true
   },
   "outputs": [
    {
     "name": "stdout",
     "output_type": "stream",
     "text": [
      "   height   name\n",
      "0     165  alice\n",
      "1     180   john\n",
      "2     175   eric\n",
      "3     171  julie\n"
     ]
    }
   ],
   "source": [
    "user4 = pd.DataFrame(dict(height=[165, 180, 175, 171], name=['alice', 'john', 'eric', 'julie'] ))\n",
    "print(user4)"
   ]
  },
  {
   "cell_type": "markdown",
   "metadata": {},
   "source": [
    "# Su dung cot name de ghep 2 DF. "
   ]
  },
  {
   "cell_type": "code",
   "execution_count": 24,
   "metadata": {
    "scrolled": true
   },
   "outputs": [
    {
     "name": "stdout",
     "output_type": "stream",
     "text": [
      "   age gender        job   name  height\n",
      "0   19      F    student  alice     165\n",
      "1   26      M    student   john     180\n",
      "2   22      M    student   eric     175\n",
      "3   44      F  scientist  julie     171\n"
     ]
    }
   ],
   "source": [
    "merge_inter = pd.merge(users, user4, on=\"name\")\n",
    "print(merge_inter)"
   ]
  },
  {
   "cell_type": "markdown",
   "metadata": {},
   "source": [
    "# Use union of keys from both frames"
   ]
  },
  {
   "cell_type": "code",
   "execution_count": 25,
   "metadata": {
    "scrolled": false
   },
   "outputs": [
    {
     "name": "stdout",
     "output_type": "stream",
     "text": [
      "   age gender        job   name\n",
      "0   19      F    student  alice\n",
      "1   26      M    student   john\n",
      "0   22      M    student   eric\n",
      "1   58      F    manager   paul\n",
      "0   33      M   engineer  peter\n",
      "1   44      F  scientist  julie\n",
      "-----\n",
      "   age gender        job   name  height\n",
      "0   19      F    student  alice   165.0\n",
      "1   26      M    student   john   180.0\n",
      "2   22      M    student   eric   175.0\n",
      "3   58      F    manager   paul     NaN\n",
      "4   33      M   engineer  peter     NaN\n",
      "5   44      F  scientist  julie   171.0\n"
     ]
    }
   ],
   "source": [
    "print(users)\n",
    "print(\"-----\")\n",
    "users = pd.merge(users, user4, on=\"name\", how='outer')\n",
    "print(users)"
   ]
  },
  {
   "cell_type": "markdown",
   "metadata": {},
   "source": [
    "# Summarizing\n",
    "### Examine the users data"
   ]
  },
  {
   "cell_type": "code",
   "execution_count": 26,
   "metadata": {},
   "outputs": [
    {
     "name": "stdout",
     "output_type": "stream",
     "text": [
      "             age      height\n",
      "count   6.000000    4.000000\n",
      "mean   33.666667  172.750000\n",
      "std    14.895189    6.344289\n",
      "min    19.000000  165.000000\n",
      "25%    23.000000  169.500000\n",
      "50%    29.500000  173.000000\n",
      "75%    41.250000  176.250000\n",
      "max    58.000000  180.000000\n",
      "<class 'pandas.core.frame.DataFrame'>\n",
      "Int64Index: 6 entries, 0 to 5\n",
      "Data columns (total 5 columns):\n",
      "age       6 non-null int64\n",
      "gender    6 non-null object\n",
      "job       6 non-null object\n",
      "name      6 non-null object\n",
      "height    4 non-null float64\n",
      "dtypes: float64(1), int64(1), object(3)\n",
      "memory usage: 216.0+ bytes\n"
     ]
    }
   ],
   "source": [
    "users # print the first 30 and last 30 rows\n",
    "type(users) # DataFrame\n",
    "users.head() # print the first 5 rows\n",
    "users.tail() # print the last 5 rows\n",
    "print(users.describe()) # summarize all numeric columns\n",
    "users.index # \"the index\" (aka \"the labels\")\n",
    "users.columns # column names (which is \"an index\")\n",
    "users.dtypes # data types of each column\n",
    "users.shape # number of rows and columns\n",
    "users.values # underlying numpy array\n",
    "users.info() # summary (includes memory usage as of pandas 0.15.0)"
   ]
  },
  {
   "cell_type": "markdown",
   "metadata": {},
   "source": [
    "# Columns selection"
   ]
  },
  {
   "cell_type": "code",
   "execution_count": 27,
   "metadata": {},
   "outputs": [
    {
     "data": {
      "text/plain": [
       "pandas.core.frame.DataFrame"
      ]
     },
     "execution_count": 27,
     "metadata": {},
     "output_type": "execute_result"
    }
   ],
   "source": [
    "users['gender']        # select one column\n",
    "type(users['gender'])  # Series\n",
    "users.gender           # select one column using the DataFrame\n",
    "# select multiple columns\n",
    "users[['age', 'gender']]    # select two columns\n",
    "my_cols = ['age', 'gender'] # or, create a list...\n",
    "users[my_cols]              # ...and use that list to select columns\n",
    "type(users[my_cols])        # DataFrame"
   ]
  },
  {
   "cell_type": "markdown",
   "metadata": {},
   "source": [
    "# Rows selection"
   ]
  },
  {
   "cell_type": "code",
   "execution_count": 28,
   "metadata": {},
   "outputs": [
    {
     "name": "stdout",
     "output_type": "stream",
     "text": [
      "   age gender        job   name  height\n",
      "0   19      F    student  alice   165.0\n",
      "1   26      M    student   john   180.0\n",
      "2   22      M    student   eric   175.0\n",
      "3   58      F    manager   paul     NaN\n",
      "4   33      M   engineer  peter     NaN\n",
      "5   44      F  scientist  julie   171.0\n",
      "   age gender        job   name  height\n",
      "0   55      F    student  alice   165.0\n",
      "1   26      M    student   john   180.0\n",
      "2   22      M    student   eric   175.0\n",
      "3   58      F    manager   paul     NaN\n",
      "4   33      M   engineer  peter     NaN\n",
      "5   44      F  scientist  julie   171.0\n"
     ]
    },
    {
     "name": "stderr",
     "output_type": "stream",
     "text": [
      "C:\\Users\\lhtam\\AppData\\Local\\Programs\\Python\\Python36-32\\Lib\\site-packages\\pandas\\core\\generic.py:3643: SettingWithCopyWarning: \n",
      "A value is trying to be set on a copy of a slice from a DataFrame\n",
      "\n",
      "See the caveats in the documentation: http://pandas.pydata.org/pandas-docs/stable/indexing.html#indexing-view-versus-copy\n",
      "  self[name] = value\n"
     ]
    }
   ],
   "source": [
    "# iloc is strictly integer position based\n",
    "df = users.copy()\n",
    "print(df)\n",
    "df.iloc[0]     # first row\n",
    "df.iloc[0, 0]  # first item of first row\n",
    "\n",
    "df.iloc[0, 0] = 55\n",
    "\n",
    "for i in range(users.shape[0]):\n",
    "    row = df.iloc[i]\n",
    "    row.age *= 100 # setting a copy, and not the original frame data.\n",
    "print(df) # df is not modified\n",
    "    \n",
    "\n"
   ]
  },
  {
   "cell_type": "markdown",
   "metadata": {},
   "source": [
    "# ix supports mixed integer and label based access."
   ]
  },
  {
   "cell_type": "code",
   "execution_count": 29,
   "metadata": {},
   "outputs": [
    {
     "name": "stdout",
     "output_type": "stream",
     "text": [
      "   age gender        job   name  height\n",
      "0  550      F    student  alice   165.0\n",
      "1  260      M    student   john   180.0\n",
      "2  220      M    student   eric   175.0\n",
      "3  580      F    manager   paul     NaN\n",
      "4  330      M   engineer  peter     NaN\n",
      "5  440      F  scientist  julie   171.0\n"
     ]
    },
    {
     "name": "stderr",
     "output_type": "stream",
     "text": [
      "C:\\Users\\lhtam\\AppData\\Local\\Programs\\Python\\Python36-32\\Lib\\site-packages\\ipykernel_launcher.py:3: DeprecationWarning: \n",
      ".ix is deprecated. Please use\n",
      ".loc for label based indexing or\n",
      ".iloc for positional indexing\n",
      "\n",
      "See the documentation here:\n",
      "http://pandas.pydata.org/pandas-docs/stable/indexing.html#ix-indexer-is-deprecated\n",
      "  This is separate from the ipykernel package so we can avoid doing imports until\n"
     ]
    }
   ],
   "source": [
    "\n",
    "df = users.copy()\n",
    "df.ix[0]               # first row\n",
    "df.ix[0, \"age\"]        # first item of first row\n",
    "df.ix[0, \"age\"] = 55\n",
    "for i in range(df.shape[0]):\n",
    "    df.ix[i, \"age\"] *= 10\n",
    "print(df)              # df is modified"
   ]
  },
  {
   "cell_type": "markdown",
   "metadata": {},
   "source": [
    "# Rows selection / filtering"
   ]
  },
  {
   "cell_type": "code",
   "execution_count": 30,
   "metadata": {},
   "outputs": [
    {
     "name": "stdout",
     "output_type": "stream",
     "text": [
      "   age gender      job   name  height\n",
      "0   19      F  student  alice   165.0\n",
      "0    student\n",
      "Name: job, dtype: object\n",
      "   age gender      job   name  height\n",
      "0   19      F  student  alice   165.0\n"
     ]
    }
   ],
   "source": [
    "# simple logical filtering\n",
    "print(users[users.age < 20]) # only show users with age < 20\n",
    "young_bool = users.age < 20 # or, create a Series of booleans...\n",
    "young = users[young_bool] # ...and use that Series to filter rows\n",
    "print(users[users.age < 20].job) # select one column from the filtered results\n",
    "print(young)"
   ]
  },
  {
   "cell_type": "markdown",
   "metadata": {},
   "source": [
    "## Advanced logical filtering"
   ]
  },
  {
   "cell_type": "code",
   "execution_count": 31,
   "metadata": {},
   "outputs": [
    {
     "name": "stdout",
     "output_type": "stream",
     "text": [
      "   age gender       job   name  height\n",
      "0   19      F   student  alice   165.0\n",
      "1   26      M   student   john   180.0\n",
      "2   22      M   student   eric   175.0\n",
      "4   33      M  engineer  peter     NaN\n"
     ]
    }
   ],
   "source": [
    "users[users.age < 20][['age', 'job']]         # select multiple columns\n",
    "users[(users.age > 20) & (users.gender=='M')] # use multiple conditions\n",
    "print(users[users.job.isin(['student', 'engineer'])]) # filter specific values"
   ]
  },
  {
   "cell_type": "markdown",
   "metadata": {},
   "source": [
    "# Sorting"
   ]
  },
  {
   "cell_type": "code",
   "execution_count": 32,
   "metadata": {},
   "outputs": [
    {
     "name": "stdout",
     "output_type": "stream",
     "text": [
      "   age gender        job   name  height\n",
      "4   33      M   engineer  peter     NaN\n",
      "3   58      F    manager   paul     NaN\n",
      "5   44      F  scientist  julie   171.0\n",
      "0   19      F    student  alice   165.0\n",
      "2   22      M    student   eric   175.0\n",
      "1   26      M    student   john   180.0\n"
     ]
    }
   ],
   "source": [
    "df = users.copy()\n",
    "df.age.sort_values()     # only works for a Series\n",
    "df.sort_values(by='age') # sort rows by a specific column\n",
    "df.sort_values(by='age', ascending=False) # use descending order instead\n",
    "df.sort_values(by=['job', 'age']) # sort by multiple columns\n",
    "df.sort_values(by=['job', 'age'], inplace=True) # modify df\n",
    "print(df)"
   ]
  },
  {
   "cell_type": "markdown",
   "metadata": {},
   "source": [
    "# Dinh hinh lai"
   ]
  },
  {
   "cell_type": "code",
   "execution_count": 33,
   "metadata": {},
   "outputs": [
    {
     "name": "stdout",
     "output_type": "stream",
     "text": [
      "     name variable      value\n",
      "0   alice      age         19\n",
      "1    john      age         26\n",
      "2    eric      age         22\n",
      "3    paul      age         58\n",
      "4   peter      age         33\n",
      "5   julie      age         44\n",
      "6   alice   gender          F\n",
      "7    john   gender          M\n",
      "8    eric   gender          M\n",
      "9    paul   gender          F\n",
      "10  peter   gender          M\n",
      "11  julie   gender          F\n",
      "12  alice      job    student\n",
      "13   john      job    student\n",
      "14   eric      job    student\n",
      "15   paul      job    manager\n",
      "16  peter      job   engineer\n",
      "17  julie      job  scientist\n",
      "18  alice   height        165\n",
      "19   john   height        180\n",
      "20   eric   height        175\n",
      "21   paul   height        NaN\n",
      "22  peter   height        NaN\n",
      "23  julie   height        171\n"
     ]
    }
   ],
   "source": [
    "staked = pd.melt(users, id_vars=\"name\", var_name=\"variable\", value_name=\"value\")\n",
    "print(staked)"
   ]
  },
  {
   "cell_type": "markdown",
   "metadata": {},
   "source": [
    "# Quality check\n",
    "### Remove duplicate data - data trung lap"
   ]
  },
  {
   "cell_type": "code",
   "execution_count": 34,
   "metadata": {},
   "outputs": [
    {
     "name": "stdout",
     "output_type": "stream",
     "text": [
      "   age gender        job   name  height\n",
      "0   19      F    student  alice   165.0\n",
      "1   26      M    student   john   180.0\n",
      "2   22      M    student   eric   175.0\n",
      "3   58      F    manager   paul     NaN\n",
      "4   33      M   engineer  peter     NaN\n",
      "5   44      F  scientist  julie   171.0\n",
      "6   33      M   engineer  peter     NaN\n",
      "1\n",
      "   age gender       job   name  height\n",
      "6   33      M  engineer  peter     NaN\n",
      "0    False\n",
      "1    False\n",
      "2    False\n",
      "3    False\n",
      "4    False\n",
      "5    False\n",
      "6     True\n",
      "Name: age, dtype: bool\n",
      "1\n",
      "   age gender        job   name  height\n",
      "0   19      F    student  alice   165.0\n",
      "1   26      M    student   john   180.0\n",
      "2   22      M    student   eric   175.0\n",
      "3   58      F    manager   paul     NaN\n",
      "4   33      M   engineer  peter     NaN\n",
      "5   44      F  scientist  julie   171.0\n"
     ]
    }
   ],
   "source": [
    "df = users.append(df.iloc[0], ignore_index=True) # Gan 1 doi tuong vao 1 doi tuong da co\n",
    "print(df)\n",
    "#print(df.duplicated()) # Series of booleans. (True if a row is identical to a previous row)\n",
    "print(df.duplicated().sum()) # count of duplicates\n",
    "print(df[df.duplicated()])  # only show duplicates\n",
    "print(df.age.duplicated()) # check a single column for duplicates -> Series\n",
    "print(df.duplicated(['age', 'gender']).sum()) # specify columns for finding duplicates -> So dong trung lap theo cot\n",
    "df = df.drop_duplicates() # drop duplicate rows\n",
    "print(df)"
   ]
  },
  {
   "cell_type": "markdown",
   "metadata": {},
   "source": [
    "### Missing data"
   ]
  },
  {
   "cell_type": "code",
   "execution_count": 35,
   "metadata": {},
   "outputs": [
    {
     "name": "stdout",
     "output_type": "stream",
     "text": [
      "              age gender      job  name      height\n",
      "count    6.000000      6        6     6    4.000000\n",
      "unique        NaN      2        4     6         NaN\n",
      "top           NaN      F  student  paul         NaN\n",
      "freq          NaN      3        3     1         NaN\n",
      "mean    33.666667    NaN      NaN   NaN  172.750000\n",
      "std     14.895189    NaN      NaN   NaN    6.344289\n",
      "min     19.000000    NaN      NaN   NaN  165.000000\n",
      "25%     23.000000    NaN      NaN   NaN  169.500000\n",
      "50%     29.500000    NaN      NaN   NaN  173.000000\n",
      "75%     41.250000    NaN      NaN   NaN  176.250000\n",
      "max     58.000000    NaN      NaN   NaN  180.000000\n",
      "0    False\n",
      "1    False\n",
      "2    False\n",
      "3     True\n",
      "4     True\n",
      "5    False\n",
      "Name: height, dtype: bool\n",
      "0     True\n",
      "1     True\n",
      "2     True\n",
      "3    False\n",
      "4    False\n",
      "5     True\n",
      "Name: height, dtype: bool\n",
      "   age gender        job   name  height\n",
      "0   19      F    student  alice   165.0\n",
      "1   26      M    student   john   180.0\n",
      "2   22      M    student   eric   175.0\n",
      "5   44      F  scientist  julie   171.0\n",
      "2\n",
      "     age  gender    job   name  height\n",
      "0  False   False  False  False   False\n",
      "1  False   False  False  False   False\n",
      "2  False   False  False  False   False\n",
      "3  False   False  False  False    True\n",
      "4  False   False  False  False    True\n",
      "5  False   False  False  False   False\n",
      "age       0\n",
      "gender    0\n",
      "job       0\n",
      "name      0\n",
      "height    2\n",
      "dtype: int64\n"
     ]
    }
   ],
   "source": [
    "# Missing values are often just excluded - loai\n",
    "\n",
    "df = users.copy()\n",
    "df.describe(include='all') # excludes missing values\n",
    "print(df.describe(include='all'))\n",
    "\n",
    "# find missing values in a Series\n",
    "print(df.height.isnull()) # True if NaN, False otherwise -> Series\n",
    "print(df.height.notnull()) # False if NaN, True otherwise -> Series\n",
    "print(df[df.height.notnull()]) # only show rows where height is not NaN\n",
    "print(df.height.isnull().sum()) # count the missing values\n",
    "\n",
    "# find missing values in a DataFrame\n",
    "print(df.isnull()) # DataFrame of booleans\n",
    "print(df.isnull().sum()) # calculate the sum of each column bi thieu"
   ]
  },
  {
   "cell_type": "markdown",
   "metadata": {},
   "source": [
    "### Strategy 1: drop missing values"
   ]
  },
  {
   "cell_type": "code",
   "execution_count": 36,
   "metadata": {
    "scrolled": false
   },
   "outputs": [
    {
     "name": "stdout",
     "output_type": "stream",
     "text": [
      "   age gender        job   name  height\n",
      "0   19      F    student  alice   165.0\n",
      "1   26      M    student   john   180.0\n",
      "2   22      M    student   eric   175.0\n",
      "3   58      F    manager   paul     NaN\n",
      "4   33      M   engineer  peter     NaN\n",
      "5   44      F  scientist  julie   171.0\n",
      "   age gender        job   name  height\n",
      "0   19      F    student  alice   165.0\n",
      "1   26      M    student   john   180.0\n",
      "2   22      M    student   eric   175.0\n",
      "5   44      F  scientist  julie   171.0\n",
      "   age gender        job   name  height\n",
      "0   19      F    student  alice   165.0\n",
      "1   26      M    student   john   180.0\n",
      "2   22      M    student   eric   175.0\n",
      "3   58      F    manager   paul     NaN\n",
      "4   33      M   engineer  peter     NaN\n",
      "5   44      F  scientist  julie   171.0\n"
     ]
    }
   ],
   "source": [
    "print(df)\n",
    "\n",
    "m = df.dropna() # drop a row if ANY values are missing\n",
    "print(m)\n",
    "\n",
    "n = df.dropna(how='all') # drop a row only if ALL values are missing\n",
    "print(n)"
   ]
  },
  {
   "cell_type": "markdown",
   "metadata": {},
   "source": [
    "### Strategy 2: fill in missing values"
   ]
  },
  {
   "cell_type": "code",
   "execution_count": 37,
   "metadata": {},
   "outputs": [
    {
     "name": "stdout",
     "output_type": "stream",
     "text": [
      "   age gender        job   name  height\n",
      "0   19      F    student  alice  165.00\n",
      "1   26      M    student   john  180.00\n",
      "2   22      M    student   eric  175.00\n",
      "3   58      F    manager   paul  172.75\n",
      "4   33      M   engineer  peter  172.75\n",
      "5   44      F  scientist  julie  171.00\n"
     ]
    },
    {
     "name": "stderr",
     "output_type": "stream",
     "text": [
      "C:\\Users\\lhtam\\AppData\\Local\\Programs\\Python\\Python36-32\\Lib\\site-packages\\ipykernel_launcher.py:3: DeprecationWarning: \n",
      ".ix is deprecated. Please use\n",
      ".loc for label based indexing or\n",
      ".iloc for positional indexing\n",
      "\n",
      "See the documentation here:\n",
      "http://pandas.pydata.org/pandas-docs/stable/indexing.html#ix-indexer-is-deprecated\n",
      "  This is separate from the ipykernel package so we can avoid doing imports until\n"
     ]
    }
   ],
   "source": [
    "df.height.mean()\n",
    "df = users.copy()\n",
    "df.ix[df.height.isnull(), \"height\"] = df[\"height\"].mean()\n",
    "print(df)"
   ]
  },
  {
   "cell_type": "markdown",
   "metadata": {},
   "source": [
    "# Rename values"
   ]
  },
  {
   "cell_type": "code",
   "execution_count": 58,
   "metadata": {},
   "outputs": [
    {
     "name": "stdout",
     "output_type": "stream",
     "text": [
      "Index(['age', 'gender', 'job', 'name', 'height'], dtype='object')\n",
      "   age gender        job   name  height\n",
      "0   19      F    student  alice   165.0\n",
      "1   26      M    student   john   180.0\n",
      "2   22      M    student   eric   175.0\n",
      "3   58      F    manager   paul     NaN\n",
      "4   33      M   engineer  peter     NaN\n",
      "5   44      F  scientist  julie   171.0\n",
      "----\n",
      "   age genre     travail    nom  taille\n",
      "0   19     F    etudiant  alice   165.0\n",
      "1   26     M    etudiant   john   180.0\n",
      "2   22     M    etudiant   eric   175.0\n",
      "3   58     F     manager   paul     NaN\n",
      "4   33     M   ingenieur  peter     NaN\n",
      "5   44     F  scientific  julie   171.0\n"
     ]
    }
   ],
   "source": [
    "df = users.copy()\n",
    "print(df.columns)\n",
    "print(df)\n",
    "print(\"----\")\n",
    "\n",
    "# Sưa tên cot \"job\"\n",
    "df.columns = ['age', 'genre', 'travail', 'nom', 'taille'] \n",
    "\n",
    "# Định nghĩa thuộc tính travail va sua gia tri\n",
    "df.travail = df.travail.map({ 'student':'etudiant', 'manager':'manager', \n",
    "                             'engineer':'ingenieur', 'scientist':'scientific'})\n",
    "print(df)"
   ]
  },
  {
   "cell_type": "markdown",
   "metadata": {},
   "source": [
    "# Dealing with outliers\n",
    "\n",
    "### Based on parametric statistics: use the mean"
   ]
  },
  {
   "cell_type": "code",
   "execution_count": 94,
   "metadata": {},
   "outputs": [
    {
     "name": "stdout",
     "output_type": "stream",
     "text": [
      "247.735861557\n"
     ]
    }
   ],
   "source": [
    "size = pd.Series(np.random.normal(loc=175, size=20, scale=10))\n",
    "# Corrupt the first 3 measures\n",
    "size[:3] += 500\n",
    "size_outlr_mean = size.copy()\n",
    "size_outlr_mean[((size - size.mean()).abs() > 3 * size.std())] = size.mean()\n",
    "print(size_outlr_mean.mean())"
   ]
  },
  {
   "cell_type": "markdown",
   "metadata": {},
   "source": [
    "### Based on non-parametric statistics: use the median"
   ]
  },
  {
   "cell_type": "code",
   "execution_count": 95,
   "metadata": {},
   "outputs": [
    {
     "name": "stdout",
     "output_type": "stream",
     "text": [
      "173.108124427 174.58216879657235\n"
     ]
    }
   ],
   "source": [
    "# Median absolute deviation (MAD), based on the median, is a robust non-parametric statistics\n",
    "mad = 1.4826 * np.median(np.abs(size - size.median()))\n",
    "size_outlr_mad = size.copy()\n",
    "size_outlr_mad[((size - size.median()).abs() > 3 * mad)] = size.median()\n",
    "print(size_outlr_mad.mean(), size_outlr_mad.median())"
   ]
  },
  {
   "cell_type": "markdown",
   "metadata": {},
   "source": [
    "# Groupby"
   ]
  },
  {
   "cell_type": "code",
   "execution_count": 96,
   "metadata": {},
   "outputs": [
    {
     "name": "stdout",
     "output_type": "stream",
     "text": [
      "engineer    age gender       job   name  height\n",
      "4   33      M  engineer  peter     NaN\n",
      "manager    age gender      job  name  height\n",
      "3   58      F  manager  paul     NaN\n",
      "scientist    age gender        job   name  height\n",
      "5   44      F  scientist  julie   171.0\n",
      "student    age gender      job   name  height\n",
      "0   19      F  student  alice   165.0\n",
      "1   26      M  student   john   180.0\n",
      "2   22      M  student   eric   175.0\n"
     ]
    }
   ],
   "source": [
    "for grp, data in users.groupby(\"job\"):\n",
    "    print(grp, data)"
   ]
  },
  {
   "cell_type": "markdown",
   "metadata": {},
   "source": [
    "# File I/O\n",
    "### Đọc và ghi dữ liệu từ Excel file"
   ]
  },
  {
   "cell_type": "code",
   "execution_count": 97,
   "metadata": {},
   "outputs": [
    {
     "ename": "IndentationError",
     "evalue": "expected an indented block (<ipython-input-97-f64975758be1>, line 7)",
     "output_type": "error",
     "traceback": [
      "\u001b[1;36m  File \u001b[1;32m\"<ipython-input-97-f64975758be1>\"\u001b[1;36m, line \u001b[1;32m7\u001b[0m\n\u001b[1;33m    users.to_excel(writer, sheet_name='users', index=False)\u001b[0m\n\u001b[1;37m        ^\u001b[0m\n\u001b[1;31mIndentationError\u001b[0m\u001b[1;31m:\u001b[0m expected an indented block\n"
     ]
    }
   ],
   "source": [
    "xls_filename = os.path.join(tmpdir, \"users.xlsx\")\n",
    "users.to_excel(xls_filename, sheet_name='users', index=False)\n",
    "pd.read_excel(xls_filename, sheetname='users')\n",
    "\n",
    "# Multiple sheets\n",
    "with pd.ExcelWriter(xls_filename) as writer:\n",
    "users.to_excel(writer, sheet_name='users', index=False)\n",
    "df.to_excel(writer, sheet_name='salary', index=False)\n",
    "pd.read_excel(xls_filename, sheetname='users')\n",
    "pd.read_excel(xls_filename, sheetname='salary')"
   ]
  },
  {
   "cell_type": "code",
   "execution_count": null,
   "metadata": {},
   "outputs": [],
   "source": []
  },
  {
   "cell_type": "code",
   "execution_count": null,
   "metadata": {},
   "outputs": [],
   "source": []
  }
 ],
 "metadata": {
  "kernelspec": {
   "display_name": "Python 3",
   "language": "python",
   "name": "python3"
  },
  "language_info": {
   "codemirror_mode": {
    "name": "ipython",
    "version": 3
   },
   "file_extension": ".py",
   "mimetype": "text/x-python",
   "name": "python",
   "nbconvert_exporter": "python",
   "pygments_lexer": "ipython3",
   "version": "3.6.4"
  }
 },
 "nbformat": 4,
 "nbformat_minor": 2
}
