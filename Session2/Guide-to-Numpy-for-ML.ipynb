{
 "cells": [
  {
   "cell_type": "markdown",
   "metadata": {},
   "source": [
    "Numpy is one of the essential libraries for Machine Learning. It helps to econom time and resource in data Pre-processing and later on implementing machine learning algorithms.\n",
    "\n",
    "This notebook serve as a quick refresher to Numpy.\n",
    "\n",
    "Numpy is a library for the Python programming language, adding support for large, multi-dimensional arrays and matrices, along with a large collection of high-level mathematical functions to operate on these arrays.\n",
    "\n",
    "[Source](https://medium.com/@sid_darthvader/an-essential-guide-to-numpy-for-machine-learning-in-python-5615e1758301)"
   ]
  },
  {
   "cell_type": "code",
   "execution_count": 1,
   "metadata": {},
   "outputs": [
    {
     "data": {
      "text/html": [
       "<div id=\"my_id_menu_nb\">run previous cell, wait for 2 seconds</div>\n",
       "<script>\n",
       "function repeat_indent_string(n){\n",
       "    var a = \"\" ;\n",
       "    for ( ; n > 0 ; --n)\n",
       "        a += \"    \";\n",
       "    return a;\n",
       "}\n",
       "// look up into all sections and builds an automated menu //\n",
       "var update_menu_string = function(begin, lfirst, llast, sformat, send, keep_item, begin_format, end_format) {\n",
       "    var anchors = document.getElementsByClassName(\"section\");\n",
       "    if (anchors.length == 0) {\n",
       "        anchors = document.getElementsByClassName(\"text_cell_render rendered_html\");\n",
       "    }\n",
       "    var i,t;\n",
       "    var text_menu = begin;\n",
       "    var text_memo = \"<pre>\\nlength:\" + anchors.length + \"\\n\";\n",
       "    var ind = \"\";\n",
       "    var memo_level = 1;\n",
       "    var href;\n",
       "    var tags = [];\n",
       "    var main_item = 0;\n",
       "    var format_open = 0;\n",
       "    for (i = 0; i <= llast; i++)\n",
       "        tags.push(\"h\" + i);\n",
       "\n",
       "    for (i = 0; i < anchors.length; i++) {\n",
       "        text_memo += \"**\" + anchors[i].id + \"--\\n\";\n",
       "\n",
       "        var child = null;\n",
       "        for(t = 0; t < tags.length; t++) {\n",
       "            var r = anchors[i].getElementsByTagName(tags[t]);\n",
       "            if (r.length > 0) {\n",
       "child = r[0];\n",
       "break;\n",
       "            }\n",
       "        }\n",
       "        if (child == null) {\n",
       "            text_memo += \"null\\n\";\n",
       "            continue;\n",
       "        }\n",
       "        if (anchors[i].hasAttribute(\"id\")) {\n",
       "            // when converted in RST\n",
       "            href = anchors[i].id;\n",
       "            text_memo += \"#1-\" + href;\n",
       "            // passer à child suivant (le chercher)\n",
       "        }\n",
       "        else if (child.hasAttribute(\"id\")) {\n",
       "            // in a notebook\n",
       "            href = child.id;\n",
       "            text_memo += \"#2-\" + href;\n",
       "        }\n",
       "        else {\n",
       "            text_memo += \"#3-\" + \"*\" + \"\\n\";\n",
       "            continue;\n",
       "        }\n",
       "        var title = child.textContent;\n",
       "        var level = parseInt(child.tagName.substring(1,2));\n",
       "\n",
       "        text_memo += \"--\" + level + \"?\" + lfirst + \"--\" + title + \"\\n\";\n",
       "\n",
       "        if ((level < lfirst) || (level > llast)) {\n",
       "            continue ;\n",
       "        }\n",
       "        if (title.endsWith('¶')) {\n",
       "            title = title.substring(0,title.length-1).replace(\"<\", \"&lt;\")\n",
       "         .replace(\">\", \"&gt;\").replace(\"&\", \"&amp;\");\n",
       "        }\n",
       "        if (title.length == 0) {\n",
       "            continue;\n",
       "        }\n",
       "\n",
       "        while (level < memo_level) {\n",
       "            text_menu += end_format + \"</ul>\\n\";\n",
       "            format_open -= 1;\n",
       "            memo_level -= 1;\n",
       "        }\n",
       "        if (level == lfirst) {\n",
       "            main_item += 1;\n",
       "        }\n",
       "        if (keep_item != -1 && main_item != keep_item + 1) {\n",
       "            // alert(main_item + \" - \" + level + \" - \" + keep_item);\n",
       "            continue;\n",
       "        }\n",
       "        while (level > memo_level) {\n",
       "            text_menu += \"<ul>\\n\";\n",
       "            memo_level += 1;\n",
       "        }\n",
       "        text_menu += repeat_indent_string(level-2);\n",
       "        text_menu += begin_format + sformat.replace(\"__HREF__\", href).replace(\"__TITLE__\", title);\n",
       "        format_open += 1;\n",
       "    }\n",
       "    while (1 < memo_level) {\n",
       "        text_menu += end_format + \"</ul>\\n\";\n",
       "        memo_level -= 1;\n",
       "        format_open -= 1;\n",
       "    }\n",
       "    text_menu += send;\n",
       "    //text_menu += \"\\n\" + text_memo;\n",
       "\n",
       "    while (format_open > 0) {\n",
       "        text_menu += end_format;\n",
       "        format_open -= 1;\n",
       "    }\n",
       "    return text_menu;\n",
       "};\n",
       "var update_menu = function() {\n",
       "    var sbegin = \"\";\n",
       "    var sformat = '<a href=\"#__HREF__\">__TITLE__</a>';\n",
       "    var send = \"\";\n",
       "    var begin_format = '<li>';\n",
       "    var end_format = '</li>';\n",
       "    var keep_item = -1;\n",
       "    var text_menu = update_menu_string(sbegin, 2, 3, sformat, send, keep_item,\n",
       "       begin_format, end_format);\n",
       "    var menu = document.getElementById(\"my_id_menu_nb\");\n",
       "    menu.innerHTML=text_menu;\n",
       "};\n",
       "window.setTimeout(update_menu,2000);\n",
       "            </script>"
      ],
      "text/plain": [
       "<IPython.core.display.HTML object>"
      ]
     },
     "execution_count": 1,
     "metadata": {},
     "output_type": "execute_result"
    }
   ],
   "source": [
    "from jyquickhelper import add_notebook_menu\n",
    "add_notebook_menu(last_level=3)"
   ]
  },
  {
   "cell_type": "markdown",
   "metadata": {},
   "source": [
    "## 1. Creating a vector"
   ]
  },
  {
   "cell_type": "code",
   "execution_count": 1,
   "metadata": {},
   "outputs": [
    {
     "name": "stdout",
     "output_type": "stream",
     "text": [
      "Vector_row: [1 2 3] Shape: (3,)\n",
      "Vector_column:\n",
      " [[1]\n",
      " [2]\n",
      " [3]] \n",
      "Shape: (3, 1)\n"
     ]
    }
   ],
   "source": [
    "# load library\n",
    "import numpy as np\n",
    "\n",
    "# create a vector as a row\n",
    "vector_row = np.array([1,2,3])\n",
    "\n",
    "print('Vector_row:', vector_row, 'Shape:', vector_row.shape)\n",
    "\n",
    "# create vector as a column\n",
    "vector_column = np.array([[1], [2], [3]])\n",
    "print('Vector_column:\\n', vector_column, '\\nShape:', vector_column.shape)"
   ]
  },
  {
   "cell_type": "markdown",
   "metadata": {},
   "source": [
    "## 2. Creating a matrix"
   ]
  },
  {
   "cell_type": "code",
   "execution_count": 2,
   "metadata": {},
   "outputs": [
    {
     "name": "stdout",
     "output_type": "stream",
     "text": [
      "Matrix:\n",
      " [[1 2 3]\n",
      " [4 5 6]] \n",
      "Shape: (2, 3)\n",
      "Another matrix: [[1 2 3]] \n",
      "Shape: (1, 3)\n"
     ]
    }
   ],
   "source": [
    "import numpy as np\n",
    "\n",
    "# create matrix\n",
    "matrix = np.array([[1,2,3], [4,5,6]])\n",
    "print('Matrix:\\n', matrix, '\\nShape:', matrix.shape)\n",
    "\n",
    "matrix2 = np.matrix([1,2,3])\n",
    "print('Another matrix:', matrix2, '\\nShape:', matrix2.shape)     \n",
    "      "
   ]
  },
  {
   "cell_type": "markdown",
   "metadata": {},
   "source": [
    "## 2'. Creating a Sparse Matrix with Scipy\n",
    "\n",
    "Given data with very few non zero values you want to efficiently represent it.\n",
    "\n",
    "Sparse Matrices store only non zero elements and assume all other values will be zero, leading to significant computational savings."
   ]
  },
  {
   "cell_type": "code",
   "execution_count": 3,
   "metadata": {},
   "outputs": [
    {
     "name": "stdout",
     "output_type": "stream",
     "text": [
      "Full matrix:\n",
      " [[0 0]\n",
      " [0 1]\n",
      " [3 0]]\n",
      "\n",
      "Sparse matrix:\n",
      "   (1, 1)\t1\n",
      "  (2, 0)\t3\n"
     ]
    }
   ],
   "source": [
    "#Create a Matrix with numpy\n",
    "import numpy as np\n",
    "matrix = np.array([[0,0],[0,1],[3,0]])\n",
    "print('Full matrix:\\n', matrix)\n",
    "\n",
    "#Create Compressed Sparse Row(CSR) matrix\n",
    "import scipy.sparse as sparse\n",
    "matrix_sparse = sparse.csr_matrix(matrix)\n",
    "print('\\nSparse matrix:\\n', matrix_sparse)"
   ]
  },
  {
   "cell_type": "markdown",
   "metadata": {},
   "source": [
    "## 3. Selecting elements"
   ]
  },
  {
   "cell_type": "code",
   "execution_count": 4,
   "metadata": {},
   "outputs": [
    {
     "name": "stdout",
     "output_type": "stream",
     "text": [
      "Vector: [1 2 3 4 5 6]\n",
      "Matrix:\n",
      " [[1 2 3]\n",
      " [4 5 6]\n",
      " [7 8 9]] \n",
      "\n",
      "3rd element of Vector: 3\n",
      "2nd element of 2nd row: 5\n",
      "All elements of Vector: [1 2 3 4 5 6]\n",
      "First 3 elements of Vector: [1 2 3]\n",
      "All beside first 3 elements of Vector: [4 5 6]\n",
      "Last element of Vector: 6 \n",
      "\n",
      "First 2 rows of Matrix:\n",
      " [[1 2 3]\n",
      " [4 5 6]]\n",
      "2nd column of Matrix:\n",
      " [[2]\n",
      " [5]\n",
      " [8]]\n"
     ]
    }
   ],
   "source": [
    "#Load Library\n",
    "import numpy as np\n",
    "\n",
    "#Create a vector as a Row\n",
    "vector_row = np.array([ 1,2,3,4,5,6 ])\n",
    "print('Vector:', vector_row)\n",
    "\n",
    "#Create a Matrix\n",
    "matrix = np.array([[1,2,3],[4,5,6],[7,8,9]])\n",
    "print('Matrix:\\n', matrix, '\\n')\n",
    "\n",
    "#Select 3rd element of Vector\n",
    "print('3rd element of Vector:', vector_row[2])\n",
    "\n",
    "#Select 2nd row 2nd column\n",
    "print('2nd element of 2nd row:', matrix[1,1])\n",
    "\n",
    "#Select all elements of a vector\n",
    "print('All elements of Vector:', vector_row[:])\n",
    "\n",
    "#Select everything up to and including the 3rd element\n",
    "print('First 3 elements of Vector:', vector_row[:3])\n",
    "\n",
    "#Select the everything after the 3rd element\n",
    "print('All beside first 3 elements of Vector:', vector_row[3:])\n",
    "\n",
    "#Select the last element\n",
    "print('Last element of Vector:', vector_row[-1], '\\n')\n",
    "\n",
    "#Select the first 2 rows and all the columns of the matrix\n",
    "print('First 2 rows of Matrix:\\n', matrix[:2,:])\n",
    "\n",
    "#Select all rows and the 2nd column of the matrix\n",
    "print('2nd column of Matrix:\\n', matrix[:,1:2])"
   ]
  },
  {
   "cell_type": "markdown",
   "metadata": {},
   "source": [
    "## 4. Describing a Matrix"
   ]
  },
  {
   "cell_type": "code",
   "execution_count": 5,
   "metadata": {},
   "outputs": [
    {
     "name": "stdout",
     "output_type": "stream",
     "text": [
      "Matrix:\n",
      " [[1 2 3]\n",
      " [4 5 6]\n",
      " [7 8 9]] \n",
      "\n",
      "Number of Rows and Columns: (3, 3)\n",
      "Number of elements: 9\n",
      "Number of dimensions 2\n"
     ]
    }
   ],
   "source": [
    "import numpy as np\n",
    "\n",
    "#Create a Matrix\n",
    "matrix = np.array([[1,2,3],[4,5,6],[7,8,9]])\n",
    "print('Matrix:\\n', matrix, '\\n')\n",
    "\n",
    "#View the Number of Rows and Columns\n",
    "print('Number of Rows and Columns:', matrix.shape)\n",
    "\n",
    "#View the number of elements (rows*columns)\n",
    "print('Number of elements:', matrix.size)\n",
    "\n",
    "#View the number of Dimensions(2 in this case)\n",
    "print('Number of dimensions', matrix.ndim)"
   ]
  },
  {
   "cell_type": "markdown",
   "metadata": {},
   "source": [
    "## 5. Applying operations to elements"
   ]
  },
  {
   "cell_type": "code",
   "execution_count": 6,
   "metadata": {},
   "outputs": [
    {
     "name": "stdout",
     "output_type": "stream",
     "text": [
      "Matrix:\n",
      " [[1 2 3]\n",
      " [4 5 6]\n",
      " [7 8 9]]\n",
      "Add 100 to all element:\n",
      " [[101 102 103]\n",
      " [104 105 106]\n",
      " [107 108 109]]\n"
     ]
    }
   ],
   "source": [
    "#Load Library\n",
    "import numpy as np\n",
    "\n",
    "#Create a Matrix\n",
    "matrix = np.array([[1,2,3],[4,5,6],[7,8,9]])\n",
    "print('Matrix:\\n', matrix)\n",
    "\n",
    "#Create a function that adds 100 to something\n",
    "add_100 = lambda i: i+100\n",
    "\n",
    "#Convert it into a vectorized function\n",
    "vectorized_add_100 = np.vectorize(add_100)\n",
    "\n",
    "#Apply function to all elements in matrix\n",
    "print('Add 100 to all element:\\n', vectorized_add_100(matrix))"
   ]
  },
  {
   "cell_type": "markdown",
   "metadata": {},
   "source": [
    " ## 6. Finding the max and min values"
   ]
  },
  {
   "cell_type": "code",
   "execution_count": 7,
   "metadata": {},
   "outputs": [
    {
     "name": "stdout",
     "output_type": "stream",
     "text": [
      "Matrix:\n",
      " [[1 2 3]\n",
      " [4 5 6]\n",
      " [7 8 9]]\n",
      "Max: 9 9\n",
      "Min: 1 1\n",
      "Max in each column: [7 8 9] [7 8 9]\n",
      "Min in each row: [1 4 7] [1 4 7]\n"
     ]
    }
   ],
   "source": [
    "#Load Library\n",
    "import numpy as np\n",
    "\n",
    "#Create a Matrix\n",
    "matrix = np.array([[1,2,3],[4,5,6],[7,8,9]])\n",
    "print('Matrix:\\n', matrix)\n",
    "\n",
    "#Return the max element\n",
    "print('Max:', np.max(matrix), matrix.max())\n",
    "\n",
    "#Return the min element\n",
    "print('Min:', np.min(matrix), matrix.min())\n",
    "\n",
    "#To find the max element in each column\n",
    "print('Max in each column:', np.max(matrix,axis=0), matrix.max(axis=0))\n",
    "\n",
    "#To find the max element in each row\n",
    "print('Min in each row:', np.min(matrix,axis=1), matrix.min(axis=1))"
   ]
  },
  {
   "cell_type": "markdown",
   "metadata": {},
   "source": [
    "## 7. Calculating Average, Variance and Standard deviation"
   ]
  },
  {
   "cell_type": "code",
   "execution_count": 8,
   "metadata": {},
   "outputs": [
    {
     "name": "stdout",
     "output_type": "stream",
     "text": [
      "Matrix:\n",
      " [[1 2 3]\n",
      " [4 5 6]\n",
      " [7 8 9]]\n",
      "Mean: 5.0 5.0\n",
      "Atandard deviation: 2.581988897471611 2.581988897471611\n",
      "Variance: 6.666666666666667 6.666666666666667\n"
     ]
    }
   ],
   "source": [
    "#Load Library\n",
    "import numpy as np\n",
    "\n",
    "#Create a Matrix\n",
    "matrix = np.array([[1,2,3],[4,5,6],[7,8,9]])\n",
    "print('Matrix:\\n', matrix)\n",
    "\n",
    "#Mean\n",
    "print('Mean:', np.mean(matrix), matrix.mean())\n",
    "\n",
    "#Standard Dev.\n",
    "print('Atandard deviation:', np.std(matrix), matrix.std())\n",
    "\n",
    "#Variance\n",
    "print('Variance:', np.var(matrix), matrix.var())"
   ]
  },
  {
   "cell_type": "markdown",
   "metadata": {},
   "source": [
    "## 8. Reshaping Arrays"
   ]
  },
  {
   "cell_type": "code",
   "execution_count": 9,
   "metadata": {},
   "outputs": [
    {
     "name": "stdout",
     "output_type": "stream",
     "text": [
      "Matrix:\n",
      " [[1 2 3]\n",
      " [4 5 6]]\n",
      "Each element in row:\n",
      " [[1]\n",
      " [2]\n",
      " [3]\n",
      " [4]\n",
      " [5]\n",
      " [6]]\n",
      "All element in a row (reshape with -1): [[1 2 3 4 5 6]]\n",
      "All element in a row (reshape with size): [1 2 3 4 5 6]\n",
      "All element in a row (reshape with flatten): [1 2 3 4 5 6]\n"
     ]
    }
   ],
   "source": [
    "#Load Library\n",
    "import numpy as np\n",
    "\n",
    "#Create a Matrix\n",
    "matrix = np.array([[1,2,3],[4,5,6]])\n",
    "print('Matrix:\\n', matrix)\n",
    "\n",
    "#Reshape\n",
    "print('Each element in row:\\n', matrix.reshape(6,1))\n",
    "\n",
    "#Here -1 says as many columns as needed and 1 row\n",
    "print('All element in a row (reshape with -1):', matrix.reshape(1,-1))\n",
    "\n",
    "#If we provide only 1 value Reshape would return a 1-d array of that length\n",
    "print('All element in a row (reshape with size):', matrix.reshape(6))\n",
    "\n",
    "#We can also use the Flatten method to convert a matrix to 1-d array\n",
    "print('All element in a row (reshape with flatten):', matrix.flatten())"
   ]
  },
  {
   "cell_type": "markdown",
   "metadata": {},
   "source": [
    "## 9. Transposing a Matrix"
   ]
  },
  {
   "cell_type": "code",
   "execution_count": 10,
   "metadata": {},
   "outputs": [
    {
     "name": "stdout",
     "output_type": "stream",
     "text": [
      "Matrix:\n",
      " [[1 2 3]\n",
      " [4 5 6]\n",
      " [7 8 9]]\n",
      "Transposed matrix:\n",
      " [[1 4 7]\n",
      " [2 5 8]\n",
      " [3 6 9]]\n"
     ]
    }
   ],
   "source": [
    "#Load Library\n",
    "import numpy as np\n",
    "\n",
    "#Create a Matrix\n",
    "matrix = np.array([[1,2,3],[4,5,6],[7,8,9]])\n",
    "print('Matrix:\\n', matrix)\n",
    "\n",
    "#Transpose the matrix\n",
    "print('Transposed matrix:\\n', matrix.T)"
   ]
  },
  {
   "cell_type": "markdown",
   "metadata": {},
   "source": [
    "## 10. Finding the Determinant and Rank of a Matrix"
   ]
  },
  {
   "cell_type": "code",
   "execution_count": 11,
   "metadata": {},
   "outputs": [
    {
     "name": "stdout",
     "output_type": "stream",
     "text": [
      "Matrix:\n",
      " [[1 2 3]\n",
      " [4 5 6]\n",
      " [7 8 9]]\n",
      "Determinant:  -9.51619735392994e-16\n",
      "Rank: 2\n"
     ]
    }
   ],
   "source": [
    "#Load Library\n",
    "import numpy as np\n",
    "\n",
    "#Create a Matrix\n",
    "matrix = np.array([[1,2,3],[4,5,6],[7,8,9]])\n",
    "print('Matrix:\\n', matrix)\n",
    "\n",
    "#Calculate the Determinant\n",
    "print('Determinant: ', np.linalg.det(matrix))\n",
    "\n",
    "#Calculate the Rank\n",
    "print('Rank:', np.linalg.matrix_rank(matrix))"
   ]
  },
  {
   "cell_type": "markdown",
   "metadata": {},
   "source": [
    "## 11. Getting the Diagonal of a Matrix"
   ]
  },
  {
   "cell_type": "code",
   "execution_count": 12,
   "metadata": {},
   "outputs": [
    {
     "name": "stdout",
     "output_type": "stream",
     "text": [
      "Matrix:\n",
      " [[1 2 3]\n",
      " [4 5 6]\n",
      " [7 8 9]]\n",
      "Principal diagonal: [1 5 9]\n",
      "One above: [2 6]\n",
      "One below: [4 8]\n"
     ]
    }
   ],
   "source": [
    "#Load Library\n",
    "import numpy as np\n",
    "\n",
    "#Create a Matrix\n",
    "matrix = np.array([[1,2,3],[4,5,6],[7,8,9]])\n",
    "print('Matrix:\\n', matrix)\n",
    "\n",
    "#Print the Principal diagonal\n",
    "print('Principal diagonal:', matrix.diagonal())\n",
    "\n",
    "#Print the diagonal one above the Principal diagonal\n",
    "print('One above:', matrix.diagonal(offset=1))\n",
    "\n",
    "#Print the diagonal one below Principal diagonal\n",
    "print('One below:', matrix.diagonal(offset=-1))"
   ]
  },
  {
   "cell_type": "markdown",
   "metadata": {},
   "source": [
    "## 12. Calculating the trace of a Matrix\n",
    "Trace of a Matrix is the sum of elements on the Principal Diagonal of the Matrix."
   ]
  },
  {
   "cell_type": "code",
   "execution_count": 13,
   "metadata": {},
   "outputs": [
    {
     "name": "stdout",
     "output_type": "stream",
     "text": [
      "Matrix:\n",
      " [[1 2 3]\n",
      " [4 5 6]\n",
      " [7 8 9]]\n",
      "Trace: 15\n"
     ]
    }
   ],
   "source": [
    "#Load Library\n",
    "import numpy as np\n",
    "\n",
    "#Create a Matrix\n",
    "matrix = np.array([[1,2,3],[4,5,6],[7,8,9]])\n",
    "print('Matrix:\\n', matrix)\n",
    "\n",
    "#Print the Trace\n",
    "print('Trace:', matrix.trace())"
   ]
  },
  {
   "cell_type": "markdown",
   "metadata": {},
   "source": [
    "## 13. Finding Eigenvalues and Eigenvectors\n",
    "\n",
    "Eigenvectors are widely used in Machine Learning libraries. Intutively given a linear transformation represented by a matrix $\\mathbf{A}$, eigenvectors are vectors that when that transformation is applied, change only in scale(not direction). More formally:\n",
    "\n",
    "$$\\mathbf{A}\\cdot\\boldsymbol{v} = \\boldsymbol{K}\\boldsymbol{v}$$\n",
    "\n",
    "where:\n",
    "- $\\mathbf{A}$ squared matrix\n",
    "- $\\boldsymbol{K}$ contains eigenvalues\n",
    "- $\\boldsymbol{v}$ contains eigenvectors"
   ]
  },
  {
   "cell_type": "code",
   "execution_count": 14,
   "metadata": {},
   "outputs": [
    {
     "name": "stdout",
     "output_type": "stream",
     "text": [
      "Matrix:\n",
      " [[ 1  2  3  4]\n",
      " [ 5  6  7  8]\n",
      " [ 9 10 11 12]\n",
      " [13 14 15 16]]\n",
      "Eigenvalues: [ 3.62093727e+01 -2.20937271e+00 -2.91421324e-15 -5.70557534e-16]\n",
      "Eigenvectors: [[-0.15115432  0.72704996 -0.36400894  0.00610215]\n",
      " [-0.34923733  0.28320876  0.79039305  0.40008675]\n",
      " [-0.54732033 -0.16063243 -0.4887593  -0.81847996]\n",
      " [-0.74540333 -0.60447363  0.06237518  0.41229105]]\n"
     ]
    }
   ],
   "source": [
    "#Load Library\n",
    "import numpy as np\n",
    "\n",
    "#Create a Matrix\n",
    "matrix = np.arange(1,17).reshape(4,4)\n",
    "print('Matrix:\\n', matrix)\n",
    "\n",
    "# Calculate the Eigenvalues and Eigenvectors of that Matrix\n",
    "eigenvalues, eigenvectors = np.linalg.eig(matrix)\n",
    "print('Eigenvalues:', eigenvalues)\n",
    "print('Eigenvectors:', eigenvectors)"
   ]
  },
  {
   "cell_type": "markdown",
   "metadata": {},
   "source": [
    "## 14. Calculating Dot Products"
   ]
  },
  {
   "cell_type": "code",
   "execution_count": 15,
   "metadata": {},
   "outputs": [
    {
     "name": "stdout",
     "output_type": "stream",
     "text": [
      "1st vector: [1 2 3]\n",
      "2nd vector: [4 5 6]\n",
      "Dot Product: 32\n",
      "Dot Product: 32\n"
     ]
    }
   ],
   "source": [
    "#Load Library\n",
    "import numpy as np\n",
    "\n",
    "#Create vector-1\n",
    "vector_1 = np.array([1, 2, 3])\n",
    "print('1st vector:', vector_1)\n",
    "#Create vector-2\n",
    "vector_2 = np.array([4, 5, 6])\n",
    "print('2nd vector:', vector_2)\n",
    "\n",
    "#Calculate Dot Product\n",
    "print('Dot Product:', np.dot(vector_1,vector_2))\n",
    "\n",
    "#Alternatively you can use @ to calculate dot products\n",
    "print('Dot Product:', vector_1 @ vector_2)"
   ]
  },
  {
   "cell_type": "markdown",
   "metadata": {},
   "source": [
    "## 15. Adding, Subtracting and Multiplying Matrices"
   ]
  },
  {
   "cell_type": "code",
   "execution_count": 16,
   "metadata": {},
   "outputs": [
    {
     "name": "stdout",
     "output_type": "stream",
     "text": [
      "1st matrix:\n",
      " [[1 2 3]\n",
      " [4 5 6]\n",
      " [7 8 9]]\n",
      "2nd matrix:\n",
      " [[7 8 9]\n",
      " [4 5 6]\n",
      " [1 2 3]]\n",
      "Sum:\n",
      " [[ 8 10 12]\n",
      " [ 8 10 12]\n",
      " [ 8 10 12]]\n",
      "Subtract:\n",
      " [[-6 -6 -6]\n",
      " [ 0  0  0]\n",
      " [ 6  6  6]]\n",
      "Element-wise product:\n",
      " [[ 7 16 27]\n",
      " [16 25 36]\n",
      " [ 7 16 27]]\n"
     ]
    }
   ],
   "source": [
    "#Load Library\n",
    "import numpy as np\n",
    "\n",
    "#Create Matrix-1\n",
    "matrix_1 = np.array([[1,2,3],[4,5,6],[7,8,9]])\n",
    "print('1st matrix:\\n', matrix_1)\n",
    "\n",
    "#Create Matrix-2\n",
    "matrix_2 = np.array([[7,8,9],[4,5,6],[1,2,3]])\n",
    "print('2nd matrix:\\n', matrix_2)\n",
    "\n",
    "#Add the 2 Matrices\n",
    "print('Sum:\\n', np.add(matrix_1,matrix_2))\n",
    "\n",
    "#Subtraction\n",
    "print('Subtract:\\n', np.subtract(matrix_1,matrix_2))\n",
    "\n",
    "#Multiplication(Element wise, not Dot Product)\n",
    "print('Element-wise product:\\n', matrix_1*matrix_2)"
   ]
  },
  {
   "cell_type": "markdown",
   "metadata": {},
   "source": [
    "## 16. Inverting a Matrix"
   ]
  },
  {
   "cell_type": "code",
   "execution_count": 17,
   "metadata": {},
   "outputs": [
    {
     "name": "stdout",
     "output_type": "stream",
     "text": [
      "Matrix: [[1 2 3]\n",
      " [4 5 6]\n",
      " [8 7 9]]\n",
      "Inverse matrix:\n",
      " [[-0.33333333 -0.33333333  0.33333333]\n",
      " [-1.33333333  1.66666667 -0.66666667]\n",
      " [ 1.33333333 -1.          0.33333333]]\n"
     ]
    }
   ],
   "source": [
    "#Load Library\n",
    "import numpy as np\n",
    "\n",
    "#Create a Matrix\n",
    "matrix = np.array([[1,2,3],[4,5,6],[8,7,9]])\n",
    "print('Matrix:', matrix)\n",
    "\n",
    "#Calculate its inverse\n",
    "print('Inverse matrix:\\n', np.linalg.inv(matrix))"
   ]
  },
  {
   "cell_type": "markdown",
   "metadata": {},
   "source": [
    "## 17. Generating Random values"
   ]
  },
  {
   "cell_type": "code",
   "execution_count": 18,
   "metadata": {},
   "outputs": [
    {
     "name": "stdout",
     "output_type": "stream",
     "text": [
      "Random number b/w 1 and 10: [5 8 9]\n",
      "Normal distribution:\n",
      " [-0.60434568  0.10224438 -1.21187015 -2.3090309  -3.72693721  3.2706907\n",
      " -1.03402827  2.27472363 -0.71981321  4.54521526]\n",
      "Uniform distribution:\n",
      " [0.55868983 0.14038694 0.19810149 0.80074457 0.96826158 0.31342418\n",
      " 0.69232262 0.87638915 0.89460666 0.08504421]\n"
     ]
    }
   ],
   "source": [
    "#Load Library\n",
    "import numpy as np\n",
    "\n",
    "#Set seed\n",
    "np.random.seed(1)\n",
    "\n",
    "#Generate 3 random integers b/w 1 and 10\n",
    "print('Random number b/w 1 and 10:', np.random.randint(0,11,3))\n",
    "\n",
    "#Draw 3 numbers from a normal distribution with mean 1.0 and std 2.0\n",
    "print('Normal distribution:\\n', np.random.normal(1.0, 2.0, 10))\n",
    "print('Uniform distribution:\\n', np.random.uniform(0, 1, 10))\n",
    "\n",
    "# See more generation method at np.random"
   ]
  }
 ],
 "metadata": {
  "kernelspec": {
   "display_name": "Python 3",
   "language": "python",
   "name": "python3"
  },
  "language_info": {
   "codemirror_mode": {
    "name": "ipython",
    "version": 3
   },
   "file_extension": ".py",
   "mimetype": "text/x-python",
   "name": "python",
   "nbconvert_exporter": "python",
   "pygments_lexer": "ipython3",
   "version": "3.6.4"
  }
 },
 "nbformat": 4,
 "nbformat_minor": 2
}
