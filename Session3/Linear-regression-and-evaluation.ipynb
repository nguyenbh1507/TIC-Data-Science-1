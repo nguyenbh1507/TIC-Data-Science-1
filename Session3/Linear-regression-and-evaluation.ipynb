{
 "cells": [
  {
   "cell_type": "markdown",
   "metadata": {},
   "source": [
    "## 1.  Fundamental\n",
    "It is used to estimate real values (cost of houses, number of calls, total sales etc.) based on continuous variable(s). Here, we **establish relationship** between **independent** and **dependent variables** by **fitting a best line**. This best fit line is known as regression line and represented by a linear equation\n",
    "\n",
    "$$Y= a\\cdot X + b\\tag{1.1}$$\n",
    "\n",
    "*The best way to understand linear regression is to relive this experience of childhood. Let us say, you ask a child in fifth grade to arrange people in his class by increasing order of weight, without asking them their weights! What do you think the child will do? He/she would likely look (visually analyze) at the height and build of people and arrange them using a combination of these visible parameters. This is linear regression in real life! The child has actually figured out that height and build would be correlated to the weight by a relationship, which looks like the equation above.*\n",
    "\n",
    "In equation (1.1):\n",
    "\n",
    "- $Y$ – Dependent Variable\n",
    "- $a$ – Slope/Coefficient\n",
    "- $X$ – Independent variable\n",
    "- $b$ – Intercept/Bias\n",
    "\n",
    "These coefficients $a$ and $b$ are derived based on **minimizing the sum of squared difference of distance** between data points $Y$ and regression line $\\hat{Y}$:\n",
    "\n",
    "$$\\sum(\\hat{Y}-Y)^2\\tag{1.2}$$\n",
    "\n",
    "Look at the below example. Here we have identified the best fit line having linear equation $y=0.2811x+13.9$. Now using this equation, we can find the weight, knowing the height of a person.\n",
    "![](https://www.analyticsvidhya.com/wp-content/uploads/2015/08/Linear_Regression.png)\n",
    "\n",
    "Linear Regression is of mainly two types: **Simple** Linear Regression and **Multiple** Linear Regression. Simple Linear Regression is characterized by **one independent** variable. And, Multiple Linear Regression(as the name suggests) is characterized by **multiple** (more than 1) **independent** variables. While finding best fit line, you can fit a polynomial or curvilinear regression. And these are known as polynomial or curvilinear regression."
   ]
  },
  {
   "cell_type": "markdown",
   "metadata": {},
   "source": [
    "## 2. Simple Linear Regression Example\n",
    "### Prepare libraries & tools"
   ]
  },
  {
   "cell_type": "code",
   "execution_count": 3,
   "metadata": {},
   "outputs": [],
   "source": [
    "# Import model from library\n",
    "from sklearn import linear_model\n",
    "# import metric to evaluate the model\n",
    "from sklearn.metrics import mean_squared_error\n",
    "# import tool to split given data into train \n",
    "from sklearn.model_selection import train_test_split"
   ]
  },
  {
   "cell_type": "markdown",
   "metadata": {},
   "source": [
    "### Prepare data"
   ]
  },
  {
   "cell_type": "code",
   "execution_count": 17,
   "metadata": {},
   "outputs": [],
   "source": [
    "# Load Train and Test datasets\n",
    "# We do it by generation\n",
    "# First import numpy to use\n",
    "import numpy as np\n",
    "\n",
    "# Generate independent variable\n",
    "X = np.arange(-5, 10, 0.05)\n",
    "\n",
    "# Generate true values\n",
    "Y = 2*X + 3\n",
    "\n",
    "# fix the seed value to generate the same random values at every time\n",
    "np.random.seed(42) \n",
    "# Create random noise\n",
    "Z = np.random.normal(size=len(X))\n",
    "\n",
    "# add noise to true value and simulating the measured values\n",
    "Y_true = Y + Z\n",
    "\n",
    "# reshape for training model\n",
    "X = X.reshape(-1, 1)\n",
    "Y_true = Y_true.reshape(-1, 1)\n",
    "\n",
    "# split to train/test dataset\n",
    "X_train, X_test, Y_train, Y_test = train_test_split(X, Y_true,test_size=0.2)"
   ]
  },
  {
   "cell_type": "markdown",
   "metadata": {},
   "source": [
    "### Create & training model"
   ]
  },
  {
   "cell_type": "code",
   "execution_count": 18,
   "metadata": {},
   "outputs": [],
   "source": [
    "# Create linear regression object\n",
    "linear = linear_model.LinearRegression()"
   ]
  },
  {
   "cell_type": "code",
   "execution_count": 19,
   "metadata": {},
   "outputs": [
    {
     "data": {
      "text/plain": [
       "LinearRegression(copy_X=True, fit_intercept=True, n_jobs=1, normalize=False)"
      ]
     },
     "execution_count": 19,
     "metadata": {},
     "output_type": "execute_result"
    }
   ],
   "source": [
    "# Train the model using the training sets and check R^2 score\n",
    "linear.fit(X_train, Y_train)"
   ]
  },
  {
   "cell_type": "code",
   "execution_count": 8,
   "metadata": {},
   "outputs": [
    {
     "name": "stdout",
     "output_type": "stream",
     "text": [
      "Coefficient: [[2.01253793]] ~2\n",
      "Intercept/Bias: [2.99408485] ~3\n",
      "Linear model: Y = 2.01253793091767X + 2.9940848471693444\n"
     ]
    }
   ],
   "source": [
    "# Model coefficient and Intercept\n",
    "print('Coefficient:', linear.coef_, '~2')\n",
    "print('Intercept/Bias:', linear.intercept_, '~3')\n",
    "print('Linear model:', 'Y = '+str(linear.coef_[0][0])+'X + '+str(linear.intercept_[0]))"
   ]
  },
  {
   "cell_type": "markdown",
   "metadata": {},
   "source": [
    "The value of coefficient says that if x changes in 1 unit, y will change in 2.01253793 unit."
   ]
  },
  {
   "cell_type": "markdown",
   "metadata": {},
   "source": [
    "### Get prediction"
   ]
  },
  {
   "cell_type": "code",
   "execution_count": 16,
   "metadata": {},
   "outputs": [
    {
     "name": "stdout",
     "output_type": "stream",
     "text": [
      "Variable test values: [[0]\n",
      " [1]\n",
      " [2]]\n",
      "Predicted values: [[3]\n",
      " [5]\n",
      " [7]]\n",
      "True values: [[3]\n",
      " [5]\n",
      " [7]]\n"
     ]
    }
   ],
   "source": [
    "# test value\n",
    "X_ = np.array([[0], [1], [2]])\n",
    "# true values\n",
    "y = 2*X + 3\n",
    "# predicted values\n",
    "y_hat = linear.predict(X_)\n",
    "\n",
    "print('Variable test values:', X_)\n",
    "print('Predicted values:', y)\n",
    "print('True values:', y)"
   ]
  },
  {
   "cell_type": "markdown",
   "metadata": {},
   "source": [
    "### Evaluate the model\n",
    "Root mean squared errors (RMSE) is one of metrics to evaluate the regression model. The smaller RMSE, the better model. RMSE is define as:\n",
    "\n",
    "$$\n",
    "RMSE = \\sqrt{\\frac{1}{N}\\sum_{i=1}^{N}{\\left(\\hat{Y}_i-Y_i\\right)^2}}\n",
    "$$\n",
    "\n",
    "Other metrics are mean squared error (MSE), mean absolute error (MAE), etc.\n",
    "$$MSE=\\frac{1}{N}\\sum_{i=1}^{N}{\\left(\\hat{Y}_i-Y_i\\right)^2}$$\n",
    "$$MAE=\\frac{1}{N}\\sum_{i=1}^{N}{\\left\\|\\hat{Y}_i-Y_i\\right\\|}$$"
   ]
  },
  {
   "cell_type": "code",
   "execution_count": 12,
   "metadata": {},
   "outputs": [
    {
     "name": "stdout",
     "output_type": "stream",
     "text": [
      "Root mean squared error on train set: 0.9826451640223782\n"
     ]
    }
   ],
   "source": [
    "# calculate mean squared error on train/test dataset\n",
    "# train set\n",
    "Y_train_hat = linear.predict(X_train)\n",
    "rmse_train = np.sqrt(mean_squared_error(y_true=Y_train, y_pred=Y_train_hat))\n",
    "print('Root mean squared error on train set:', rmse_train)  # 0.9826451640223782"
   ]
  },
  {
   "cell_type": "code",
   "execution_count": 13,
   "metadata": {},
   "outputs": [
    {
     "name": "stdout",
     "output_type": "stream",
     "text": [
      "Root mean squared error on test set: 0.9756528517454147\n"
     ]
    }
   ],
   "source": [
    "# test set\n",
    "Y_test_hat = linear.predict(X_test)\n",
    "rmse_test = np.sqrt(mean_squared_error(y_true=Y_test, y_pred=Y_test_hat))\n",
    "print('Root mean squared error on test set:', rmse_test)  # 0.9756528517454147"
   ]
  },
  {
   "cell_type": "markdown",
   "metadata": {},
   "source": [
    "### Visualize results\n",
    "#### True and predicted values"
   ]
  },
  {
   "cell_type": "code",
   "execution_count": 20,
   "metadata": {},
   "outputs": [
    {
     "data": {
      "image/png": "[encoded data removed]",
      "text/plain": [
       "<matplotlib.figure.Figure at 0x7f893e9377f0>"
      ]
     },
     "metadata": {},
     "output_type": "display_data"
    }
   ],
   "source": [
    "import matplotlib.pyplot as plt\n",
    "%matplotlib inline\n",
    "\n",
    "plt.figure(figsize=(7,5))\n",
    "plt.scatter(x=X_train, y=Y_train, s=2, c='darkblue',label='True values')\n",
    "plt.plot(X_train, Y_train_hat, c='darkred', linewidth=2, label='Regressed values')\n",
    "plt.legend()\n",
    "plt.grid(True)"
   ]
  },
  {
   "cell_type": "markdown",
   "metadata": {},
   "source": [
    "#### Error distribution"
   ]
  },
  {
   "cell_type": "code",
   "execution_count": 53,
   "metadata": {},
   "outputs": [
    {
     "data": {
      "image/png": "[encoded data removed]",
      "text/plain": [
       "<matplotlib.figure.Figure at 0x7f893e8b2ac8>"
      ]
     },
     "metadata": {},
     "output_type": "display_data"
    }
   ],
   "source": [
    "error = linear.predict(X)-Y_true\n",
    "\n",
    "# The true value of gaussian distribution\n",
    "xx = np.arange(-4, 4.01, 0.1)\n",
    "sigma = 1\n",
    "mu = 0\n",
    "# gaussian function\n",
    "yy = 1/np.sqrt(2*np.pi*sigma**2)*np.exp(-(xx-mu)**2/(2*sigma**2))\n",
    "# plotting\n",
    "plt.figure(figsize=(15,5))\n",
    "plt.subplot(1,2,1)\n",
    "plt.hist(error, bins=11, density=True, label='Experiment')\n",
    "plt.plot(xx, yy, label='Expectation', linewidth=3)\n",
    "plt.title('Error distribution')\n",
    "plt.xlabel('Error')\n",
    "plt.ylabel('Distribution')\n",
    "plt.grid(True)\n",
    "plt.legend()\n",
    "\n",
    "plt.subplot(1,2,2)\n",
    "plt.plot(error, 'bo', label='Error')\n",
    "plt.plot(np.zeros(error.shape), 'r', linewidth=3)\n",
    "plt.ylabel('Error')\n",
    "plt.title('Error value')\n",
    "plt.legend()\n",
    "plt.grid(True)\n",
    "plt.show()"
   ]
  },
  {
   "cell_type": "markdown",
   "metadata": {},
   "source": [
    "### Conclusion\n",
    "As we can see from the graphs, the model fits the data very well."
   ]
  },
  {
   "cell_type": "code",
   "execution_count": null,
   "metadata": {},
   "outputs": [],
   "source": []
  }
 ],
 "metadata": {
  "kernelspec": {
   "display_name": "Python 3",
   "language": "python",
   "name": "python3"
  },
  "language_info": {
   "codemirror_mode": {
    "name": "ipython",
    "version": 3
   },
   "file_extension": ".py",
   "mimetype": "text/x-python",
   "name": "python",
   "nbconvert_exporter": "python",
   "pygments_lexer": "ipython3",
   "version": "3.6.4"
  }
 },
 "nbformat": 4,
 "nbformat_minor": 2
}
