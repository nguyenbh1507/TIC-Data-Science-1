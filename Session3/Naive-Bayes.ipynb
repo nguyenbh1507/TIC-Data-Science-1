{
 "cells": [
  {
   "cell_type": "markdown",
   "metadata": {},
   "source": [
    "## 1. Fundamental\n",
    "It is a **classification technique** based on **Bayes’ theorem** with an assumption of independence between predictors. In simple terms, a Naive Bayes classifier assumes that the presence of a particular feature in a class is unrelated to the presence of any other feature. For example, a fruit may be considered to be an apple if it is red, round, and about 3 inches in diameter. Even if these features depend on each other or upon the existence of the other features, a naive Bayes classifier would consider all of these properties to independently contribute to the probability that this fruit is an apple.\n",
    "\n",
    "Naive Bayesian model is **easy to build** and particularly **useful** for **very large data sets**. Along with simplicity, Naive Bayes is known to **outperform even highly sophisticated classification methods**.\n",
    "\n",
    "Bayes theorem provides a way of calculating posterior probability P(c|x) from P(c), P(x) and P(x|c). Look at the equation below:\n",
    "\n",
    "![](https://www.analyticsvidhya.com/wp-content/uploads/2015/08/Bayes_rule.png)\n",
    "\n",
    "Here,\n",
    "\n",
    "- $P(c|x)$ is the posterior probability of class (target) given predictor (attribute). \n",
    "- $P(c)$ is the prior probability of class. \n",
    "- $P(x|c)$ is the likelihood which is the probability of predictor given class. \n",
    "- $P(x)$ is the prior probability of predictor.\n",
    "\n",
    "Example: Let’s understand it using an example. Below I have a training data set of weather and corresponding target variable ‘Play’. Now, we need to classify whether players will play or not based on weather condition. Let’s follow the below steps to perform it.\n",
    "\n",
    "- *Step 1*: Convert the data set to frequency table\n",
    "- *Step 2*: Create Likelihood table by finding the probabilities like Overcast probability = 0.29 and probability of playing is 0.64.\n",
    "![](https://www.analyticsvidhya.com/wp-content/uploads/2015/08/Bayes_41-850x310.png)\n",
    "- *Step 3*: Now, use Naive Bayesian equation to calculate the posterior probability for each class. The class with the highest posterior probability is the outcome of prediction.\n",
    "\n",
    "Problem: Players will pay if weather is sunny, is this statement is correct?<br>\n",
    "We can solve it using above discussed method, so P(Yes|Sunny) = P(Sunny|Yes) * P(Yes)/P(Sunny)<br>\n",
    "Here we have P(Sunny|Yes) = 3/9 = 0.33, P(Sunny) = 5/14 = 0.36, P(Yes)= 9/14 = 0.64<br>\n",
    "Now, P(Yes|Sunny) = 0.33* 0.64/0.36 = 0.60, which has higher probability.\n",
    "\n",
    "Naive Bayes uses a similar method to predict the probability of different class based on various attributes. This algorithm is mostly used in text classification and with problems having multiple classes.\n",
    "[From scratch](https://machinelearningmastery.com/naive-bayes-classifier-scratch-python/)"
   ]
  },
  {
   "cell_type": "markdown",
   "metadata": {},
   "source": [
    "## 2. Example"
   ]
  },
  {
   "cell_type": "code",
   "execution_count": 1,
   "metadata": {},
   "outputs": [],
   "source": [
    "import numpy as np\n",
    "import matplotlib.pyplot as plt\n",
    "%matplotlib inline\n",
    "\n",
    "import seaborn as sns\n",
    "\n",
    "from sklearn.metrics import confusion_matrix"
   ]
  },
  {
   "cell_type": "code",
   "execution_count": 2,
   "metadata": {},
   "outputs": [],
   "source": [
    "# load data\n",
    "from sklearn.datasets import load_iris\n",
    "iris = load_iris()"
   ]
  },
  {
   "cell_type": "code",
   "execution_count": 3,
   "metadata": {},
   "outputs": [
    {
     "data": {
      "text/plain": [
       "GaussianNB(priors=None)"
      ]
     },
     "execution_count": 3,
     "metadata": {},
     "output_type": "execute_result"
    }
   ],
   "source": [
    "# build and train model\n",
    "from sklearn.naive_bayes import GaussianNB\n",
    "gnb = GaussianNB()\n",
    "gnb.fit(iris.data, iris.target)"
   ]
  },
  {
   "cell_type": "code",
   "execution_count": 4,
   "metadata": {},
   "outputs": [
    {
     "data": {
      "image/png": "[encoded data removed]",
      "text/plain": [
       "<matplotlib.figure.Figure at 0x7fb2e3ff70f0>"
      ]
     },
     "metadata": {},
     "output_type": "display_data"
    }
   ],
   "source": [
    "# calculate confusion matrices\n",
    "prediction = gnb.predict(iris.data)\n",
    "cm = confusion_matrix(y_true=iris.target, y_pred=prediction)\n",
    "acc = gnb.score(X=iris.data, y=iris.target)\n",
    "\n",
    "# visualization with seaborn\n",
    "plt.figure(figsize=(5,5))\n",
    "sns.heatmap(cm, annot=True, linewidths=1, square=True, cbar=False);\n",
    "plt.ylabel('Actual label');\n",
    "plt.xlabel('Predicted label');\n",
    "all_sample_title = 'Accuracy Score: %.1f'%(acc*100) + '%'\n",
    "plt.title(all_sample_title, size = 12);"
   ]
  },
  {
   "cell_type": "code",
   "execution_count": 5,
   "metadata": {},
   "outputs": [
    {
     "name": "stdout",
     "output_type": "stream",
     "text": [
      "Number of feature: 4\n",
      "Probability of each class:\n",
      " [0.33333333 0.33333333 0.33333333]\n",
      "Number of training samples observed in each class:\n",
      " [50. 50. 50.]\n",
      "Mean of each feature per class:\n",
      " [[5.006 3.418 1.464 0.244]\n",
      " [5.936 2.77  4.26  1.326]\n",
      " [6.588 2.974 5.552 2.026]]\n",
      "Variance of each feature per class:\n",
      " [[0.121764 0.142276 0.029504 0.011264]\n",
      " [0.261104 0.0965   0.2164   0.038324]\n",
      " [0.396256 0.101924 0.298496 0.073924]]\n"
     ]
    }
   ],
   "source": [
    "# Model summaries\n",
    "print('Number of feature:', iris.data.shape[1])\n",
    "print('Probability of each class:\\n', gnb.class_prior_)\n",
    "print('Number of training samples observed in each class:\\n', gnb.class_count_)\n",
    "print('Mean of each feature per class:\\n', gnb.theta_)\n",
    "print('Variance of each feature per class:\\n', gnb.sigma_)"
   ]
  },
  {
   "cell_type": "markdown",
   "metadata": {},
   "source": [
    "## 3. Advanced in math - How to train & infer"
   ]
  },
  {
   "cell_type": "markdown",
   "metadata": {},
   "source": [
    "**Gaussian Naive Bayesian** to train for Feature X (shape = number of samples $M$, number of features $N$), label y (shape = $(M, 1)$)\n",
    "- Training:\n",
    "    - Group by class (total number - $K$), calculate prior (based on frequency) of each class - $p(c_k) = m_k/M$\n",
    "    - Supose in each class each feature has gaussian distribution\n",
    "    - Estimate mean $\\mu_{k,n}$ and standard deviation $\\sigma_{k,n}$ of each feature for each class\n",
    "- Prediction:\n",
    "    - Calculate probability $p(x_{m,n}|c_k) = \\text{Gaussian}(x_{m,n}, \\mu_{k,n}, \\sigma_{k,n})$\n",
    "    - Supose features are independent, calculate likelihood $p(X_m|c_k) = \\prod_{n}{p(x_{m,n}|c_k)}$\n",
    "    - Calculate posterior (or probability each sample belong to each class) $p(c_k|X_m) = \\frac{p(X_m|c_k)p(c_k)}{p(X_m)}$ \n",
    "    - Return class with largest posterior $p(c_k|X_m)$"
   ]
  },
  {
   "cell_type": "code",
   "execution_count": 6,
   "metadata": {},
   "outputs": [
    {
     "name": "stdout",
     "output_type": "stream",
     "text": [
      "Bayes prediction:\t [0 1 2]\n",
      "Prediction by model:\t [0 1 2]\n"
     ]
    }
   ],
   "source": [
    "# how to get predictiton\n",
    "def gaussian(x, mu, sig):\n",
    "    \"\"\"\n",
    "    return gaussian probability of value x with mean mu and standard deviation sig\n",
    "    \"\"\"\n",
    "    return np.exp(-np.power(x - mu, 2.) / (2 * np.power(sig, 2.)))\n",
    "\n",
    "Xtest = iris.data[[0, 60, 140]]\n",
    "numclass = 3  # number of classes\n",
    "numfeat = 4   # number of feature\n",
    "mu = gnb.theta_\n",
    "sig = gnb.sigma_\n",
    "pclass = gnb.class_prior_\n",
    "# feature shape = (3,4)\n",
    "# get probability each feature per class, shape = (number of sample, number of classes, number of feature)\n",
    "prob_xij_ck = \\\n",
    "gaussian(np.tile(Xtest, (1,1,numclass)).reshape(Xtest.shape[0],numclass,numfeat), mu, sig)\n",
    "# get probability each sample per class, shape = (number of sample, number of classes)\n",
    "prob_xi_ck = np.multiply.reduce(prob_xij_ck,2)\n",
    "# get prediction\n",
    "prediction = (prob_xi_ck*pclass).argmax(axis=1)\n",
    "print(\"Bayes prediction:\\t\", prediction)\n",
    "print(\"Prediction by model:\\t\", gnb.predict(Xtest))"
   ]
  }
 ],
 "metadata": {
  "kernelspec": {
   "display_name": "Python 3",
   "language": "python",
   "name": "python3"
  },
  "language_info": {
   "codemirror_mode": {
    "name": "ipython",
    "version": 3
   },
   "file_extension": ".py",
   "mimetype": "text/x-python",
   "name": "python",
   "nbconvert_exporter": "python",
   "pygments_lexer": "ipython3",
   "version": "3.6.4"
  }
 },
 "nbformat": 4,
 "nbformat_minor": 2
}
